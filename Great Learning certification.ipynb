{
 "cells": [
  {
   "cell_type": "markdown",
   "id": "707b111c",
   "metadata": {},
   "source": [
    "Great Learning certificate "
   ]
  },
  {
   "cell_type": "code",
   "execution_count": 1,
   "id": "b627fca2",
   "metadata": {},
   "outputs": [
    {
     "name": "stdout",
     "output_type": "stream",
     "text": [
      "This is spartaaaaa\n"
     ]
    }
   ],
   "source": [
    "print(\"This is spartaaaaa\")"
   ]
  },
  {
   "cell_type": "markdown",
   "id": "b3e3327c",
   "metadata": {},
   "source": [
    "Variables"
   ]
  },
  {
   "cell_type": "code",
   "execution_count": 2,
   "id": "3da464e4",
   "metadata": {},
   "outputs": [],
   "source": [
    "employee_name = \"Rama\""
   ]
  },
  {
   "cell_type": "code",
   "execution_count": 3,
   "id": "245473eb",
   "metadata": {},
   "outputs": [
    {
     "data": {
      "text/plain": [
       "'Rama'"
      ]
     },
     "execution_count": 3,
     "metadata": {},
     "output_type": "execute_result"
    }
   ],
   "source": [
    "employee_name"
   ]
  },
  {
   "cell_type": "code",
   "execution_count": 4,
   "id": "9dc522ae",
   "metadata": {},
   "outputs": [
    {
     "data": {
      "text/plain": [
       "'Gopala'"
      ]
     },
     "execution_count": 4,
     "metadata": {},
     "output_type": "execute_result"
    }
   ],
   "source": [
    "employee_name = \"Gopala\"\n",
    "employee_name"
   ]
  },
  {
   "cell_type": "code",
   "execution_count": 5,
   "id": "bb729dcf",
   "metadata": {},
   "outputs": [
    {
     "data": {
      "text/plain": [
       "'krishna'"
      ]
     },
     "execution_count": 5,
     "metadata": {},
     "output_type": "execute_result"
    }
   ],
   "source": [
    "employee_name = \"krishna\"\n",
    "employee_name"
   ]
  },
  {
   "cell_type": "markdown",
   "id": "d74482a2",
   "metadata": {},
   "source": [
    "Data Types"
   ]
  },
  {
   "cell_type": "code",
   "execution_count": 6,
   "id": "3dcb44f0",
   "metadata": {},
   "outputs": [
    {
     "data": {
      "text/plain": [
       "100"
      ]
     },
     "execution_count": 6,
     "metadata": {},
     "output_type": "execute_result"
    }
   ],
   "source": [
    "a_numeic = 100\n",
    "a_numeic"
   ]
  },
  {
   "cell_type": "code",
   "execution_count": 7,
   "id": "85d40ebf",
   "metadata": {},
   "outputs": [
    {
     "data": {
      "text/plain": [
       "int"
      ]
     },
     "execution_count": 7,
     "metadata": {},
     "output_type": "execute_result"
    }
   ],
   "source": [
    "type(a_numeic)"
   ]
  },
  {
   "cell_type": "code",
   "execution_count": 8,
   "id": "09e9ecc7",
   "metadata": {},
   "outputs": [
    {
     "data": {
      "text/plain": [
       "3.0"
      ]
     },
     "execution_count": 8,
     "metadata": {},
     "output_type": "execute_result"
    }
   ],
   "source": [
    "a_numeic = 3.0\n",
    "a_numeic"
   ]
  },
  {
   "cell_type": "code",
   "execution_count": 9,
   "id": "c10791de",
   "metadata": {},
   "outputs": [
    {
     "data": {
      "text/plain": [
       "float"
      ]
     },
     "execution_count": 9,
     "metadata": {},
     "output_type": "execute_result"
    }
   ],
   "source": [
    "type(a_numeic)"
   ]
  },
  {
   "cell_type": "code",
   "execution_count": 10,
   "id": "021df071",
   "metadata": {},
   "outputs": [
    {
     "data": {
      "text/plain": [
       "True"
      ]
     },
     "execution_count": 10,
     "metadata": {},
     "output_type": "execute_result"
    }
   ],
   "source": [
    "a1 = True\n",
    "a1"
   ]
  },
  {
   "cell_type": "code",
   "execution_count": 11,
   "id": "7edcab56",
   "metadata": {},
   "outputs": [
    {
     "data": {
      "text/plain": [
       "bool"
      ]
     },
     "execution_count": 11,
     "metadata": {},
     "output_type": "execute_result"
    }
   ],
   "source": [
    "type(a1)"
   ]
  },
  {
   "cell_type": "code",
   "execution_count": 12,
   "id": "40ef9c42",
   "metadata": {},
   "outputs": [
    {
     "data": {
      "text/plain": [
       "'spataaa!!'"
      ]
     },
     "execution_count": 12,
     "metadata": {},
     "output_type": "execute_result"
    }
   ],
   "source": [
    "a1 = \"spataaa!!\"\n",
    "a1"
   ]
  },
  {
   "cell_type": "code",
   "execution_count": 13,
   "id": "08a6772d",
   "metadata": {},
   "outputs": [
    {
     "data": {
      "text/plain": [
       "str"
      ]
     },
     "execution_count": 13,
     "metadata": {},
     "output_type": "execute_result"
    }
   ],
   "source": [
    "type(a1)"
   ]
  },
  {
   "cell_type": "code",
   "execution_count": 14,
   "id": "66b42cce",
   "metadata": {},
   "outputs": [
    {
     "data": {
      "text/plain": [
       "(3+5j)"
      ]
     },
     "execution_count": 14,
     "metadata": {},
     "output_type": "execute_result"
    }
   ],
   "source": [
    "a1 = 3+5j\n",
    "a1"
   ]
  },
  {
   "cell_type": "code",
   "execution_count": 15,
   "id": "b21ff160",
   "metadata": {},
   "outputs": [
    {
     "data": {
      "text/plain": [
       "complex"
      ]
     },
     "execution_count": 15,
     "metadata": {},
     "output_type": "execute_result"
    }
   ],
   "source": [
    "type(a1)"
   ]
  },
  {
   "cell_type": "markdown",
   "id": "1deade9d",
   "metadata": {},
   "source": [
    "Operators\\\n",
    "Arthamatic operators"
   ]
  },
  {
   "cell_type": "code",
   "execution_count": 16,
   "id": "20e839ea",
   "metadata": {},
   "outputs": [],
   "source": [
    "a = 10\n",
    "b = 20"
   ]
  },
  {
   "cell_type": "code",
   "execution_count": 17,
   "id": "83614b44",
   "metadata": {},
   "outputs": [
    {
     "data": {
      "text/plain": [
       "30"
      ]
     },
     "execution_count": 17,
     "metadata": {},
     "output_type": "execute_result"
    }
   ],
   "source": [
    "a+b"
   ]
  },
  {
   "cell_type": "code",
   "execution_count": 18,
   "id": "c9c850b4",
   "metadata": {},
   "outputs": [
    {
     "data": {
      "text/plain": [
       "-10"
      ]
     },
     "execution_count": 18,
     "metadata": {},
     "output_type": "execute_result"
    }
   ],
   "source": [
    "a-b"
   ]
  },
  {
   "cell_type": "code",
   "execution_count": 19,
   "id": "a95eefc9",
   "metadata": {},
   "outputs": [
    {
     "data": {
      "text/plain": [
       "10"
      ]
     },
     "execution_count": 19,
     "metadata": {},
     "output_type": "execute_result"
    }
   ],
   "source": [
    "b-a"
   ]
  },
  {
   "cell_type": "code",
   "execution_count": 20,
   "id": "962a8551",
   "metadata": {},
   "outputs": [
    {
     "data": {
      "text/plain": [
       "200"
      ]
     },
     "execution_count": 20,
     "metadata": {},
     "output_type": "execute_result"
    }
   ],
   "source": [
    "a*b"
   ]
  },
  {
   "cell_type": "code",
   "execution_count": 21,
   "id": "855260b6",
   "metadata": {},
   "outputs": [
    {
     "data": {
      "text/plain": [
       "0.5"
      ]
     },
     "execution_count": 21,
     "metadata": {},
     "output_type": "execute_result"
    }
   ],
   "source": [
    "a/b"
   ]
  },
  {
   "cell_type": "markdown",
   "id": "2ba678a6",
   "metadata": {},
   "source": [
    "Relational Operators"
   ]
  },
  {
   "cell_type": "code",
   "execution_count": 22,
   "id": "0837fab6",
   "metadata": {},
   "outputs": [],
   "source": [
    "a = 10\n",
    "b = 20"
   ]
  },
  {
   "cell_type": "code",
   "execution_count": 23,
   "id": "1d7afe05",
   "metadata": {},
   "outputs": [
    {
     "data": {
      "text/plain": [
       "False"
      ]
     },
     "execution_count": 23,
     "metadata": {},
     "output_type": "execute_result"
    }
   ],
   "source": [
    "a > b"
   ]
  },
  {
   "cell_type": "code",
   "execution_count": 24,
   "id": "5dd0464c",
   "metadata": {},
   "outputs": [
    {
     "data": {
      "text/plain": [
       "True"
      ]
     },
     "execution_count": 24,
     "metadata": {},
     "output_type": "execute_result"
    }
   ],
   "source": [
    "a < b "
   ]
  },
  {
   "cell_type": "code",
   "execution_count": 25,
   "id": "4173bea9",
   "metadata": {},
   "outputs": [
    {
     "data": {
      "text/plain": [
       "False"
      ]
     },
     "execution_count": 25,
     "metadata": {},
     "output_type": "execute_result"
    }
   ],
   "source": [
    "a == b"
   ]
  },
  {
   "cell_type": "code",
   "execution_count": 26,
   "id": "ca0acd75",
   "metadata": {},
   "outputs": [
    {
     "data": {
      "text/plain": [
       "True"
      ]
     },
     "execution_count": 26,
     "metadata": {},
     "output_type": "execute_result"
    }
   ],
   "source": [
    "a != b"
   ]
  },
  {
   "cell_type": "code",
   "execution_count": 27,
   "id": "a8efb539",
   "metadata": {},
   "outputs": [],
   "source": [
    "a = 100\n",
    "b = 100"
   ]
  },
  {
   "cell_type": "code",
   "execution_count": 28,
   "id": "b24b8c4c",
   "metadata": {},
   "outputs": [
    {
     "data": {
      "text/plain": [
       "True"
      ]
     },
     "execution_count": 28,
     "metadata": {},
     "output_type": "execute_result"
    }
   ],
   "source": [
    "a == b"
   ]
  },
  {
   "cell_type": "markdown",
   "id": "871b345b",
   "metadata": {},
   "source": [
    "Logical Operators & |"
   ]
  },
  {
   "cell_type": "code",
   "execution_count": 29,
   "id": "bbce77ee",
   "metadata": {},
   "outputs": [],
   "source": [
    "a = True\n",
    "b = False"
   ]
  },
  {
   "cell_type": "code",
   "execution_count": 30,
   "id": "69be41f8",
   "metadata": {},
   "outputs": [
    {
     "data": {
      "text/plain": [
       "False"
      ]
     },
     "execution_count": 30,
     "metadata": {},
     "output_type": "execute_result"
    }
   ],
   "source": [
    "a&b"
   ]
  },
  {
   "cell_type": "code",
   "execution_count": 31,
   "id": "a0ef897c",
   "metadata": {},
   "outputs": [
    {
     "data": {
      "text/plain": [
       "False"
      ]
     },
     "execution_count": 31,
     "metadata": {},
     "output_type": "execute_result"
    }
   ],
   "source": [
    "b&a"
   ]
  },
  {
   "cell_type": "code",
   "execution_count": 32,
   "id": "0a2170ff",
   "metadata": {},
   "outputs": [
    {
     "data": {
      "text/plain": [
       "False"
      ]
     },
     "execution_count": 32,
     "metadata": {},
     "output_type": "execute_result"
    }
   ],
   "source": [
    "b&b"
   ]
  },
  {
   "cell_type": "code",
   "execution_count": 33,
   "id": "d70113fd",
   "metadata": {},
   "outputs": [
    {
     "data": {
      "text/plain": [
       "True"
      ]
     },
     "execution_count": 33,
     "metadata": {},
     "output_type": "execute_result"
    }
   ],
   "source": [
    "a&a"
   ]
  },
  {
   "cell_type": "code",
   "execution_count": 34,
   "id": "bf19dc21",
   "metadata": {},
   "outputs": [
    {
     "data": {
      "text/plain": [
       "True"
      ]
     },
     "execution_count": 34,
     "metadata": {},
     "output_type": "execute_result"
    }
   ],
   "source": [
    "a|b"
   ]
  },
  {
   "cell_type": "code",
   "execution_count": 35,
   "id": "35a1b760",
   "metadata": {},
   "outputs": [
    {
     "data": {
      "text/plain": [
       "True"
      ]
     },
     "execution_count": 35,
     "metadata": {},
     "output_type": "execute_result"
    }
   ],
   "source": [
    "b|a"
   ]
  },
  {
   "cell_type": "code",
   "execution_count": 36,
   "id": "b6397ec9",
   "metadata": {},
   "outputs": [
    {
     "data": {
      "text/plain": [
       "True"
      ]
     },
     "execution_count": 36,
     "metadata": {},
     "output_type": "execute_result"
    }
   ],
   "source": [
    "a|a"
   ]
  },
  {
   "cell_type": "code",
   "execution_count": 37,
   "id": "5fb46498",
   "metadata": {},
   "outputs": [
    {
     "data": {
      "text/plain": [
       "False"
      ]
     },
     "execution_count": 37,
     "metadata": {},
     "output_type": "execute_result"
    }
   ],
   "source": [
    "b|b"
   ]
  },
  {
   "cell_type": "markdown",
   "id": "c5ad0cd9",
   "metadata": {},
   "source": [
    "Tokens"
   ]
  },
  {
   "cell_type": "markdown",
   "id": "9fa02341",
   "metadata": {},
   "source": [
    "Keywords"
   ]
  },
  {
   "cell_type": "code",
   "execution_count": 38,
   "id": "483e2fa8",
   "metadata": {},
   "outputs": [
    {
     "name": "stdout",
     "output_type": "stream",
     "text": [
      "['False', 'None', 'True', 'and', 'as', 'assert', 'async', 'await', 'break', 'class', 'continue', 'def', 'del', 'elif', 'else', 'except', 'finally', 'for', 'from', 'global', 'if', 'import', 'in', 'is', 'lambda', 'nonlocal', 'not', 'or', 'pass', 'raise', 'return', 'try', 'while', 'with', 'yield']\n"
     ]
    }
   ],
   "source": [
    "import keyword\n",
    "print(keyword.kwlist)"
   ]
  },
  {
   "cell_type": "markdown",
   "id": "5c896007",
   "metadata": {},
   "source": [
    "Identifiers"
   ]
  },
  {
   "cell_type": "code",
   "execution_count": 39,
   "id": "f8a757e4",
   "metadata": {},
   "outputs": [],
   "source": [
    "Ram = \"I am Ram\""
   ]
  },
  {
   "cell_type": "code",
   "execution_count": 40,
   "id": "2a417914",
   "metadata": {},
   "outputs": [],
   "source": [
    "ram = \"I am ram\""
   ]
  },
  {
   "cell_type": "code",
   "execution_count": 41,
   "id": "bfb74ee7",
   "metadata": {},
   "outputs": [
    {
     "data": {
      "text/plain": [
       "'I am Ram'"
      ]
     },
     "execution_count": 41,
     "metadata": {},
     "output_type": "execute_result"
    }
   ],
   "source": [
    "Ram"
   ]
  },
  {
   "cell_type": "code",
   "execution_count": 42,
   "id": "8bea46fa",
   "metadata": {},
   "outputs": [
    {
     "data": {
      "text/plain": [
       "'I am ram'"
      ]
     },
     "execution_count": 42,
     "metadata": {},
     "output_type": "execute_result"
    }
   ],
   "source": [
    "ram"
   ]
  },
  {
   "cell_type": "markdown",
   "id": "8a19044e",
   "metadata": {},
   "source": [
    "Literals"
   ]
  },
  {
   "cell_type": "code",
   "execution_count": 43,
   "id": "335ae91f",
   "metadata": {},
   "outputs": [],
   "source": [
    "a1 = \"Ram\""
   ]
  },
  {
   "cell_type": "code",
   "execution_count": 44,
   "id": "08b868c2",
   "metadata": {},
   "outputs": [],
   "source": [
    "a1 = 12"
   ]
  },
  {
   "cell_type": "code",
   "execution_count": 45,
   "id": "bec03d70",
   "metadata": {},
   "outputs": [],
   "source": [
    "a1 = True"
   ]
  },
  {
   "cell_type": "markdown",
   "id": "e960fa5e",
   "metadata": {},
   "source": [
    "Strings"
   ]
  },
  {
   "cell_type": "code",
   "execution_count": 46,
   "id": "8b897878",
   "metadata": {},
   "outputs": [],
   "source": [
    "s1 = 'Hello World'"
   ]
  },
  {
   "cell_type": "code",
   "execution_count": 47,
   "id": "ff54f2e4",
   "metadata": {},
   "outputs": [
    {
     "data": {
      "text/plain": [
       "'Hello World'"
      ]
     },
     "execution_count": 47,
     "metadata": {},
     "output_type": "execute_result"
    }
   ],
   "source": [
    "s1 "
   ]
  },
  {
   "cell_type": "code",
   "execution_count": 48,
   "id": "0030b782",
   "metadata": {},
   "outputs": [
    {
     "data": {
      "text/plain": [
       "str"
      ]
     },
     "execution_count": 48,
     "metadata": {},
     "output_type": "execute_result"
    }
   ],
   "source": [
    "type(s1)"
   ]
  },
  {
   "cell_type": "code",
   "execution_count": 49,
   "id": "3c0dfc2d",
   "metadata": {},
   "outputs": [],
   "source": [
    "s1 = \"Spataaa!!\""
   ]
  },
  {
   "cell_type": "code",
   "execution_count": 50,
   "id": "e8c4586a",
   "metadata": {},
   "outputs": [
    {
     "data": {
      "text/plain": [
       "'Spataaa!!'"
      ]
     },
     "execution_count": 50,
     "metadata": {},
     "output_type": "execute_result"
    }
   ],
   "source": [
    "s1"
   ]
  },
  {
   "cell_type": "code",
   "execution_count": 51,
   "id": "7b7a5f54",
   "metadata": {},
   "outputs": [
    {
     "data": {
      "text/plain": [
       "str"
      ]
     },
     "execution_count": 51,
     "metadata": {},
     "output_type": "execute_result"
    }
   ],
   "source": [
    "type(s1)"
   ]
  },
  {
   "cell_type": "code",
   "execution_count": 52,
   "id": "a58453d9",
   "metadata": {},
   "outputs": [],
   "source": [
    "s1 = \"\"\"this is multiline comment\n",
    "\"\"\""
   ]
  },
  {
   "cell_type": "code",
   "execution_count": 53,
   "id": "6e8101dd",
   "metadata": {},
   "outputs": [
    {
     "data": {
      "text/plain": [
       "'this is multiline comment\\n'"
      ]
     },
     "execution_count": 53,
     "metadata": {},
     "output_type": "execute_result"
    }
   ],
   "source": [
    "s1"
   ]
  },
  {
   "cell_type": "code",
   "execution_count": 54,
   "id": "a1d37f6c",
   "metadata": {},
   "outputs": [
    {
     "data": {
      "text/plain": [
       "str"
      ]
     },
     "execution_count": 54,
     "metadata": {},
     "output_type": "execute_result"
    }
   ],
   "source": [
    "type(s1)"
   ]
  },
  {
   "cell_type": "code",
   "execution_count": 55,
   "id": "506fcdf1",
   "metadata": {},
   "outputs": [],
   "source": [
    "my_string = \"my name is ram\""
   ]
  },
  {
   "cell_type": "code",
   "execution_count": 56,
   "id": "68f59d1e",
   "metadata": {},
   "outputs": [
    {
     "data": {
      "text/plain": [
       "'m'"
      ]
     },
     "execution_count": 56,
     "metadata": {},
     "output_type": "execute_result"
    }
   ],
   "source": [
    "my_string[0]"
   ]
  },
  {
   "cell_type": "code",
   "execution_count": 57,
   "id": "4c27d688",
   "metadata": {},
   "outputs": [
    {
     "data": {
      "text/plain": [
       "'m'"
      ]
     },
     "execution_count": 57,
     "metadata": {},
     "output_type": "execute_result"
    }
   ],
   "source": [
    "my_string[-1]"
   ]
  },
  {
   "cell_type": "code",
   "execution_count": 58,
   "id": "ec60fb22",
   "metadata": {},
   "outputs": [
    {
     "data": {
      "text/plain": [
       "'m'"
      ]
     },
     "execution_count": 58,
     "metadata": {},
     "output_type": "execute_result"
    }
   ],
   "source": [
    "my_string[5]"
   ]
  },
  {
   "cell_type": "code",
   "execution_count": 59,
   "id": "e323010b",
   "metadata": {},
   "outputs": [
    {
     "data": {
      "text/plain": [
       "'name'"
      ]
     },
     "execution_count": 59,
     "metadata": {},
     "output_type": "execute_result"
    }
   ],
   "source": [
    "my_string[3:7]"
   ]
  },
  {
   "cell_type": "code",
   "execution_count": 60,
   "id": "72abfd06",
   "metadata": {},
   "outputs": [
    {
     "data": {
      "text/plain": [
       "'ram'"
      ]
     },
     "execution_count": 60,
     "metadata": {},
     "output_type": "execute_result"
    }
   ],
   "source": [
    "my_string[11:14]"
   ]
  },
  {
   "cell_type": "code",
   "execution_count": 61,
   "id": "08f2c624",
   "metadata": {},
   "outputs": [],
   "source": [
    "my_string = \"My Name is ram\""
   ]
  },
  {
   "cell_type": "code",
   "execution_count": 62,
   "id": "47f41c50",
   "metadata": {},
   "outputs": [
    {
     "data": {
      "text/plain": [
       "14"
      ]
     },
     "execution_count": 62,
     "metadata": {},
     "output_type": "execute_result"
    }
   ],
   "source": [
    "len(my_string)"
   ]
  },
  {
   "cell_type": "code",
   "execution_count": 63,
   "id": "4a60785d",
   "metadata": {},
   "outputs": [
    {
     "data": {
      "text/plain": [
       "'MY NAME IS RAM'"
      ]
     },
     "execution_count": 63,
     "metadata": {},
     "output_type": "execute_result"
    }
   ],
   "source": [
    "my_string.upper()"
   ]
  },
  {
   "cell_type": "code",
   "execution_count": 64,
   "id": "74fcce1c",
   "metadata": {},
   "outputs": [
    {
     "data": {
      "text/plain": [
       "'my name is ram'"
      ]
     },
     "execution_count": 64,
     "metadata": {},
     "output_type": "execute_result"
    }
   ],
   "source": [
    "my_string.lower()"
   ]
  },
  {
   "cell_type": "code",
   "execution_count": 65,
   "id": "da51bbbe",
   "metadata": {},
   "outputs": [
    {
     "data": {
      "text/plain": [
       "'My age is ram'"
      ]
     },
     "execution_count": 65,
     "metadata": {},
     "output_type": "execute_result"
    }
   ],
   "source": [
    "my_string.replace('Name','age')"
   ]
  },
  {
   "cell_type": "code",
   "execution_count": 66,
   "id": "41b05834",
   "metadata": {},
   "outputs": [],
   "source": [
    "s1 = \"hello worls this spartaa hello world is is is hello\""
   ]
  },
  {
   "cell_type": "code",
   "execution_count": 67,
   "id": "16575bcf",
   "metadata": {},
   "outputs": [
    {
     "data": {
      "text/plain": [
       "3"
      ]
     },
     "execution_count": 67,
     "metadata": {},
     "output_type": "execute_result"
    }
   ],
   "source": [
    "s1.count(\"hello\")"
   ]
  },
  {
   "cell_type": "code",
   "execution_count": 68,
   "id": "fe2447e1",
   "metadata": {},
   "outputs": [
    {
     "data": {
      "text/plain": [
       "1"
      ]
     },
     "execution_count": 68,
     "metadata": {},
     "output_type": "execute_result"
    }
   ],
   "source": [
    "s1.count(\"world\")"
   ]
  },
  {
   "cell_type": "code",
   "execution_count": 69,
   "id": "94546898",
   "metadata": {},
   "outputs": [],
   "source": [
    "s1 = \"this is Sparta\""
   ]
  },
  {
   "cell_type": "code",
   "execution_count": 70,
   "id": "56eafe06",
   "metadata": {},
   "outputs": [
    {
     "data": {
      "text/plain": [
       "9"
      ]
     },
     "execution_count": 70,
     "metadata": {},
     "output_type": "execute_result"
    }
   ],
   "source": [
    "s1.find(\"p\")"
   ]
  },
  {
   "cell_type": "code",
   "execution_count": 71,
   "id": "8ec90916",
   "metadata": {},
   "outputs": [],
   "source": [
    "s1 = \"The Students names are Rama, Gopala, Krishna, masani \""
   ]
  },
  {
   "cell_type": "code",
   "execution_count": 72,
   "id": "4d994d5d",
   "metadata": {},
   "outputs": [
    {
     "data": {
      "text/plain": [
       "['The Students names are Rama', ' Gopala', ' Krishna', ' masani ']"
      ]
     },
     "execution_count": 72,
     "metadata": {},
     "output_type": "execute_result"
    }
   ],
   "source": [
    "s1.split(',')"
   ]
  },
  {
   "cell_type": "markdown",
   "id": "637ceeec",
   "metadata": {},
   "source": [
    "Data Structures"
   ]
  },
  {
   "cell_type": "code",
   "execution_count": 73,
   "id": "73661b13",
   "metadata": {},
   "outputs": [],
   "source": [
    "#Tuple\n",
    "tup1 = (1,\"a\",True,2,\"b\",False)"
   ]
  },
  {
   "cell_type": "code",
   "execution_count": 74,
   "id": "1b7cfe20",
   "metadata": {},
   "outputs": [
    {
     "data": {
      "text/plain": [
       "(1, 'a', True, 2, 'b', False)"
      ]
     },
     "execution_count": 74,
     "metadata": {},
     "output_type": "execute_result"
    }
   ],
   "source": [
    "tup1"
   ]
  },
  {
   "cell_type": "code",
   "execution_count": 75,
   "id": "bd11954b",
   "metadata": {},
   "outputs": [
    {
     "data": {
      "text/plain": [
       "tuple"
      ]
     },
     "execution_count": 75,
     "metadata": {},
     "output_type": "execute_result"
    }
   ],
   "source": [
    "type(tup1)"
   ]
  },
  {
   "cell_type": "code",
   "execution_count": 76,
   "id": "cd83fee0",
   "metadata": {},
   "outputs": [
    {
     "data": {
      "text/plain": [
       "1"
      ]
     },
     "execution_count": 76,
     "metadata": {},
     "output_type": "execute_result"
    }
   ],
   "source": [
    "tup1[0]"
   ]
  },
  {
   "cell_type": "code",
   "execution_count": 77,
   "id": "fad2a58f",
   "metadata": {},
   "outputs": [
    {
     "data": {
      "text/plain": [
       "'a'"
      ]
     },
     "execution_count": 77,
     "metadata": {},
     "output_type": "execute_result"
    }
   ],
   "source": [
    "tup1[1]"
   ]
  },
  {
   "cell_type": "code",
   "execution_count": 78,
   "id": "c7aa0e05",
   "metadata": {},
   "outputs": [
    {
     "data": {
      "text/plain": [
       "False"
      ]
     },
     "execution_count": 78,
     "metadata": {},
     "output_type": "execute_result"
    }
   ],
   "source": [
    "tup1[-1]"
   ]
  },
  {
   "cell_type": "code",
   "execution_count": 79,
   "id": "f9f9cdc9",
   "metadata": {},
   "outputs": [
    {
     "data": {
      "text/plain": [
       "(True, 2, 'b')"
      ]
     },
     "execution_count": 79,
     "metadata": {},
     "output_type": "execute_result"
    }
   ],
   "source": [
    "tup1[2:5]"
   ]
  },
  {
   "cell_type": "code",
   "execution_count": 80,
   "id": "1fd9caaf",
   "metadata": {},
   "outputs": [
    {
     "data": {
      "text/plain": [
       "6"
      ]
     },
     "execution_count": 80,
     "metadata": {},
     "output_type": "execute_result"
    }
   ],
   "source": [
    "len(tup1)"
   ]
  },
  {
   "cell_type": "code",
   "execution_count": 81,
   "id": "23e17dec",
   "metadata": {},
   "outputs": [],
   "source": [
    "Tup_1 = (\"a\",True,3+2j)\n",
    "Tup_2 = (\"spartaa\",False,5050)"
   ]
  },
  {
   "cell_type": "code",
   "execution_count": 82,
   "id": "67433675",
   "metadata": {},
   "outputs": [
    {
     "data": {
      "text/plain": [
       "('a', True, (3+2j), 'spartaa', False, 5050)"
      ]
     },
     "execution_count": 82,
     "metadata": {},
     "output_type": "execute_result"
    }
   ],
   "source": [
    "Tup_1+Tup_2"
   ]
  },
  {
   "cell_type": "code",
   "execution_count": 83,
   "id": "d8275c5e",
   "metadata": {},
   "outputs": [
    {
     "data": {
      "text/plain": [
       "('spartaa', False, 5050, 'a', True, (3+2j))"
      ]
     },
     "execution_count": 83,
     "metadata": {},
     "output_type": "execute_result"
    }
   ],
   "source": [
    "Tup_2+Tup_1"
   ]
  },
  {
   "cell_type": "code",
   "execution_count": 84,
   "id": "08d76455",
   "metadata": {},
   "outputs": [],
   "source": [
    "Tup_1 = (1,True,3.14)"
   ]
  },
  {
   "cell_type": "code",
   "execution_count": 85,
   "id": "92998f1c",
   "metadata": {},
   "outputs": [
    {
     "data": {
      "text/plain": [
       "(1, True, 3.14, 1, True, 3.14, 1, True, 3.14)"
      ]
     },
     "execution_count": 85,
     "metadata": {},
     "output_type": "execute_result"
    }
   ],
   "source": [
    "Tup_1*3"
   ]
  },
  {
   "cell_type": "code",
   "execution_count": 86,
   "id": "ba188425",
   "metadata": {},
   "outputs": [],
   "source": [
    "Tup_2 = (\"a\",\"b\",\"c\")"
   ]
  },
  {
   "cell_type": "code",
   "execution_count": 87,
   "id": "e8631e28",
   "metadata": {},
   "outputs": [
    {
     "data": {
      "text/plain": [
       "(1,\n",
       " True,\n",
       " 3.14,\n",
       " 1,\n",
       " True,\n",
       " 3.14,\n",
       " 1,\n",
       " True,\n",
       " 3.14,\n",
       " 1,\n",
       " True,\n",
       " 3.14,\n",
       " 1,\n",
       " True,\n",
       " 3.14,\n",
       " 'a',\n",
       " 'b',\n",
       " 'c')"
      ]
     },
     "execution_count": 87,
     "metadata": {},
     "output_type": "execute_result"
    }
   ],
   "source": [
    "Tup_1*5+Tup_2"
   ]
  },
  {
   "cell_type": "code",
   "execution_count": 88,
   "id": "24d02df2",
   "metadata": {},
   "outputs": [],
   "source": [
    "tup = (67,43,1,90,-45,68)"
   ]
  },
  {
   "cell_type": "code",
   "execution_count": 89,
   "id": "c46f6dd5",
   "metadata": {},
   "outputs": [
    {
     "data": {
      "text/plain": [
       "-45"
      ]
     },
     "execution_count": 89,
     "metadata": {},
     "output_type": "execute_result"
    }
   ],
   "source": [
    "min(tup)"
   ]
  },
  {
   "cell_type": "code",
   "execution_count": 90,
   "id": "51c0fbad",
   "metadata": {},
   "outputs": [
    {
     "data": {
      "text/plain": [
       "90"
      ]
     },
     "execution_count": 90,
     "metadata": {},
     "output_type": "execute_result"
    }
   ],
   "source": [
    "max(tup)"
   ]
  },
  {
   "cell_type": "markdown",
   "id": "1c84eff8",
   "metadata": {},
   "source": [
    "List"
   ]
  },
  {
   "cell_type": "code",
   "execution_count": 91,
   "id": "519f0571",
   "metadata": {},
   "outputs": [],
   "source": [
    "List_1 = [1,\"Spartaa\",3.14,True,3+5j]"
   ]
  },
  {
   "cell_type": "code",
   "execution_count": 92,
   "id": "5a8f2aa8",
   "metadata": {},
   "outputs": [
    {
     "data": {
      "text/plain": [
       "[1, 'Spartaa', 3.14, True, (3+5j)]"
      ]
     },
     "execution_count": 92,
     "metadata": {},
     "output_type": "execute_result"
    }
   ],
   "source": [
    "List_1"
   ]
  },
  {
   "cell_type": "code",
   "execution_count": 93,
   "id": "a41bae67",
   "metadata": {},
   "outputs": [
    {
     "data": {
      "text/plain": [
       "list"
      ]
     },
     "execution_count": 93,
     "metadata": {},
     "output_type": "execute_result"
    }
   ],
   "source": [
    "type(List_1)"
   ]
  },
  {
   "cell_type": "code",
   "execution_count": 94,
   "id": "7aef1e6e",
   "metadata": {},
   "outputs": [
    {
     "data": {
      "text/plain": [
       "[1, 'Spartaa', 3.14, True, (3+5j)]"
      ]
     },
     "execution_count": 94,
     "metadata": {},
     "output_type": "execute_result"
    }
   ],
   "source": [
    "List_1"
   ]
  },
  {
   "cell_type": "code",
   "execution_count": 95,
   "id": "6d18a460",
   "metadata": {},
   "outputs": [
    {
     "data": {
      "text/plain": [
       "(3+5j)"
      ]
     },
     "execution_count": 95,
     "metadata": {},
     "output_type": "execute_result"
    }
   ],
   "source": [
    "List_1[-1]"
   ]
  },
  {
   "cell_type": "code",
   "execution_count": 96,
   "id": "3cab5b26",
   "metadata": {},
   "outputs": [
    {
     "data": {
      "text/plain": [
       "['Spartaa', 3.14, True]"
      ]
     },
     "execution_count": 96,
     "metadata": {},
     "output_type": "execute_result"
    }
   ],
   "source": [
    "List_1[1:4]"
   ]
  },
  {
   "cell_type": "code",
   "execution_count": 97,
   "id": "2792496e",
   "metadata": {},
   "outputs": [
    {
     "data": {
      "text/plain": [
       "[1, 'Spartaa', 3.14, True, (3+5j)]"
      ]
     },
     "execution_count": 97,
     "metadata": {},
     "output_type": "execute_result"
    }
   ],
   "source": [
    "List_1"
   ]
  },
  {
   "cell_type": "code",
   "execution_count": 98,
   "id": "646e1943",
   "metadata": {},
   "outputs": [],
   "source": [
    "List_1[0]=100"
   ]
  },
  {
   "cell_type": "code",
   "execution_count": 99,
   "id": "7461b4dd",
   "metadata": {},
   "outputs": [
    {
     "data": {
      "text/plain": [
       "[100, 'Spartaa', 3.14, True, (3+5j)]"
      ]
     },
     "execution_count": 99,
     "metadata": {},
     "output_type": "execute_result"
    }
   ],
   "source": [
    "List_1"
   ]
  },
  {
   "cell_type": "code",
   "execution_count": 100,
   "id": "5ec056e3",
   "metadata": {},
   "outputs": [],
   "source": [
    "List_1.append(\"Hello World\")"
   ]
  },
  {
   "cell_type": "code",
   "execution_count": 101,
   "id": "c0820bc9",
   "metadata": {},
   "outputs": [
    {
     "data": {
      "text/plain": [
       "[100, 'Spartaa', 3.14, True, (3+5j), 'Hello World']"
      ]
     },
     "execution_count": 101,
     "metadata": {},
     "output_type": "execute_result"
    }
   ],
   "source": [
    "List_1"
   ]
  },
  {
   "cell_type": "code",
   "execution_count": 102,
   "id": "ac8fe47d",
   "metadata": {},
   "outputs": [
    {
     "data": {
      "text/plain": [
       "'Hello World'"
      ]
     },
     "execution_count": 102,
     "metadata": {},
     "output_type": "execute_result"
    }
   ],
   "source": [
    "List_1.pop()"
   ]
  },
  {
   "cell_type": "code",
   "execution_count": 103,
   "id": "b245dfa4",
   "metadata": {},
   "outputs": [
    {
     "data": {
      "text/plain": [
       "[100, 'Spartaa', 3.14, True, (3+5j)]"
      ]
     },
     "execution_count": 103,
     "metadata": {},
     "output_type": "execute_result"
    }
   ],
   "source": [
    "List_1"
   ]
  },
  {
   "cell_type": "code",
   "execution_count": 104,
   "id": "d8722a45",
   "metadata": {},
   "outputs": [
    {
     "data": {
      "text/plain": [
       "[100, 'Spartaa', 3.14, True, (3+5j)]"
      ]
     },
     "execution_count": 104,
     "metadata": {},
     "output_type": "execute_result"
    }
   ],
   "source": [
    "List_1"
   ]
  },
  {
   "cell_type": "code",
   "execution_count": 105,
   "id": "2447f5e9",
   "metadata": {},
   "outputs": [],
   "source": [
    "List_1.reverse()"
   ]
  },
  {
   "cell_type": "code",
   "execution_count": 106,
   "id": "a1a13922",
   "metadata": {},
   "outputs": [
    {
     "data": {
      "text/plain": [
       "[(3+5j), True, 3.14, 'Spartaa', 100]"
      ]
     },
     "execution_count": 106,
     "metadata": {},
     "output_type": "execute_result"
    }
   ],
   "source": [
    "List_1"
   ]
  },
  {
   "cell_type": "code",
   "execution_count": 107,
   "id": "547560a9",
   "metadata": {},
   "outputs": [],
   "source": [
    "List_2 = [\"at\",\"lion\",\"king\",\"ball\",\"all\"]"
   ]
  },
  {
   "cell_type": "code",
   "execution_count": 108,
   "id": "4fa81ddb",
   "metadata": {},
   "outputs": [
    {
     "data": {
      "text/plain": [
       "['at', 'lion', 'king', 'ball', 'all']"
      ]
     },
     "execution_count": 108,
     "metadata": {},
     "output_type": "execute_result"
    }
   ],
   "source": [
    "List_2"
   ]
  },
  {
   "cell_type": "code",
   "execution_count": 109,
   "id": "52edd352",
   "metadata": {},
   "outputs": [],
   "source": [
    "List_2.sort()"
   ]
  },
  {
   "cell_type": "code",
   "execution_count": 110,
   "id": "fc5722f9",
   "metadata": {},
   "outputs": [
    {
     "data": {
      "text/plain": [
       "['all', 'at', 'ball', 'king', 'lion']"
      ]
     },
     "execution_count": 110,
     "metadata": {},
     "output_type": "execute_result"
    }
   ],
   "source": [
    "List_2"
   ]
  },
  {
   "cell_type": "code",
   "execution_count": 111,
   "id": "e4c0345a",
   "metadata": {},
   "outputs": [],
   "source": [
    "List_2.insert(0,\"spartaa\")"
   ]
  },
  {
   "cell_type": "code",
   "execution_count": 112,
   "id": "a9b2639f",
   "metadata": {},
   "outputs": [
    {
     "data": {
      "text/plain": [
       "['spartaa', 'all', 'at', 'ball', 'king', 'lion']"
      ]
     },
     "execution_count": 112,
     "metadata": {},
     "output_type": "execute_result"
    }
   ],
   "source": [
    "List_2"
   ]
  },
  {
   "cell_type": "code",
   "execution_count": 113,
   "id": "b20cb1ca",
   "metadata": {},
   "outputs": [],
   "source": [
    "li = [1,2,3,4,5]"
   ]
  },
  {
   "cell_type": "code",
   "execution_count": 114,
   "id": "210090fe",
   "metadata": {},
   "outputs": [],
   "source": [
    "li_1 = [5,4,3,2,1]"
   ]
  },
  {
   "cell_type": "code",
   "execution_count": 115,
   "id": "73f06689",
   "metadata": {},
   "outputs": [
    {
     "data": {
      "text/plain": [
       "[1, 2, 3, 4, 5, 5, 4, 3, 2, 1]"
      ]
     },
     "execution_count": 115,
     "metadata": {},
     "output_type": "execute_result"
    }
   ],
   "source": [
    "li+li_1"
   ]
  },
  {
   "cell_type": "code",
   "execution_count": 116,
   "id": "e6c5eaf5",
   "metadata": {},
   "outputs": [
    {
     "data": {
      "text/plain": [
       "[5, 4, 3, 2, 1, 1, 2, 3, 4, 5]"
      ]
     },
     "execution_count": 116,
     "metadata": {},
     "output_type": "execute_result"
    }
   ],
   "source": [
    "li_1+li"
   ]
  },
  {
   "cell_type": "code",
   "execution_count": 117,
   "id": "7752a85a",
   "metadata": {},
   "outputs": [
    {
     "data": {
      "text/plain": [
       "[1, 2, 3, 4, 5, 1, 2, 3, 4, 5, 1, 2, 3, 4, 5, 1, 2, 3, 4, 5, 1, 2, 3, 4, 5]"
      ]
     },
     "execution_count": 117,
     "metadata": {},
     "output_type": "execute_result"
    }
   ],
   "source": [
    "li*5"
   ]
  },
  {
   "cell_type": "markdown",
   "id": "24a7744c",
   "metadata": {},
   "source": [
    "Dictionary"
   ]
  },
  {
   "cell_type": "code",
   "execution_count": 118,
   "id": "57a315c4",
   "metadata": {},
   "outputs": [],
   "source": [
    "fruit = {\"apple\":50,\"bananna\":30,\"orange\":40,\"peach\":100}"
   ]
  },
  {
   "cell_type": "code",
   "execution_count": 119,
   "id": "62fd4fdb",
   "metadata": {},
   "outputs": [
    {
     "data": {
      "text/plain": [
       "{'apple': 50, 'bananna': 30, 'orange': 40, 'peach': 100}"
      ]
     },
     "execution_count": 119,
     "metadata": {},
     "output_type": "execute_result"
    }
   ],
   "source": [
    "fruit"
   ]
  },
  {
   "cell_type": "code",
   "execution_count": 120,
   "id": "9fc96871",
   "metadata": {},
   "outputs": [
    {
     "data": {
      "text/plain": [
       "dict"
      ]
     },
     "execution_count": 120,
     "metadata": {},
     "output_type": "execute_result"
    }
   ],
   "source": [
    "type(fruit)"
   ]
  },
  {
   "cell_type": "code",
   "execution_count": 121,
   "id": "8fd6849a",
   "metadata": {},
   "outputs": [
    {
     "data": {
      "text/plain": [
       "dict_keys(['apple', 'bananna', 'orange', 'peach'])"
      ]
     },
     "execution_count": 121,
     "metadata": {},
     "output_type": "execute_result"
    }
   ],
   "source": [
    "fruit.keys()"
   ]
  },
  {
   "cell_type": "code",
   "execution_count": 122,
   "id": "2bed1a47",
   "metadata": {},
   "outputs": [
    {
     "data": {
      "text/plain": [
       "dict_values([50, 30, 40, 100])"
      ]
     },
     "execution_count": 122,
     "metadata": {},
     "output_type": "execute_result"
    }
   ],
   "source": [
    "fruit.values()"
   ]
  },
  {
   "cell_type": "code",
   "execution_count": 123,
   "id": "08bfd299",
   "metadata": {},
   "outputs": [
    {
     "data": {
      "text/plain": [
       "dict_items([('apple', 50), ('bananna', 30), ('orange', 40), ('peach', 100)])"
      ]
     },
     "execution_count": 123,
     "metadata": {},
     "output_type": "execute_result"
    }
   ],
   "source": [
    "fruit.items()"
   ]
  },
  {
   "cell_type": "code",
   "execution_count": 124,
   "id": "0fb6bdd8",
   "metadata": {},
   "outputs": [],
   "source": [
    "fruit[\"mango\"]=200"
   ]
  },
  {
   "cell_type": "code",
   "execution_count": 125,
   "id": "30f091a5",
   "metadata": {},
   "outputs": [
    {
     "data": {
      "text/plain": [
       "{'apple': 50, 'bananna': 30, 'orange': 40, 'peach': 100, 'mango': 200}"
      ]
     },
     "execution_count": 125,
     "metadata": {},
     "output_type": "execute_result"
    }
   ],
   "source": [
    "fruit"
   ]
  },
  {
   "cell_type": "code",
   "execution_count": 126,
   "id": "49891a4f",
   "metadata": {},
   "outputs": [
    {
     "data": {
      "text/plain": [
       "{'apple': 10, 'bananna': 30, 'orange': 40, 'peach': 100, 'mango': 200}"
      ]
     },
     "execution_count": 126,
     "metadata": {},
     "output_type": "execute_result"
    }
   ],
   "source": [
    "fruit[\"apple\"]=10\n",
    "fruit"
   ]
  },
  {
   "cell_type": "code",
   "execution_count": 127,
   "id": "1804a81c",
   "metadata": {},
   "outputs": [],
   "source": [
    "fruits = {\"apple\":50,\"banana\":10}"
   ]
  },
  {
   "cell_type": "code",
   "execution_count": 128,
   "id": "04fc79fe",
   "metadata": {},
   "outputs": [],
   "source": [
    "fruits_1 = {\"mango\":100,\"dragonfruit\":500}"
   ]
  },
  {
   "cell_type": "code",
   "execution_count": 129,
   "id": "f0be058c",
   "metadata": {},
   "outputs": [],
   "source": [
    "fruits.update(fruits_1)"
   ]
  },
  {
   "cell_type": "code",
   "execution_count": 130,
   "id": "1d4dd8f3",
   "metadata": {},
   "outputs": [
    {
     "data": {
      "text/plain": [
       "{'apple': 50, 'banana': 10, 'mango': 100, 'dragonfruit': 500}"
      ]
     },
     "execution_count": 130,
     "metadata": {},
     "output_type": "execute_result"
    }
   ],
   "source": [
    "fruits"
   ]
  },
  {
   "cell_type": "code",
   "execution_count": 131,
   "id": "9c2af5bb",
   "metadata": {},
   "outputs": [
    {
     "data": {
      "text/plain": [
       "100"
      ]
     },
     "execution_count": 131,
     "metadata": {},
     "output_type": "execute_result"
    }
   ],
   "source": [
    "fruits.pop(\"mango\")"
   ]
  },
  {
   "cell_type": "code",
   "execution_count": 132,
   "id": "f6883445",
   "metadata": {},
   "outputs": [
    {
     "data": {
      "text/plain": [
       "{'apple': 50, 'banana': 10, 'dragonfruit': 500}"
      ]
     },
     "execution_count": 132,
     "metadata": {},
     "output_type": "execute_result"
    }
   ],
   "source": [
    "fruits"
   ]
  },
  {
   "cell_type": "markdown",
   "id": "0d4c562c",
   "metadata": {},
   "source": [
    "Set"
   ]
  },
  {
   "cell_type": "code",
   "execution_count": 133,
   "id": "f44abefb",
   "metadata": {},
   "outputs": [],
   "source": [
    "set1 = {1,\"sparta\",\"Spartaa\",1}"
   ]
  },
  {
   "cell_type": "code",
   "execution_count": 134,
   "id": "b64bf027",
   "metadata": {},
   "outputs": [
    {
     "data": {
      "text/plain": [
       "{1, 'Spartaa', 'sparta'}"
      ]
     },
     "execution_count": 134,
     "metadata": {},
     "output_type": "execute_result"
    }
   ],
   "source": [
    "set1"
   ]
  },
  {
   "cell_type": "code",
   "execution_count": 135,
   "id": "e7fd66e5",
   "metadata": {},
   "outputs": [],
   "source": [
    "set1.add(\"Hello world\")"
   ]
  },
  {
   "cell_type": "code",
   "execution_count": 136,
   "id": "8c2c4246",
   "metadata": {},
   "outputs": [
    {
     "data": {
      "text/plain": [
       "{1, 'Hello world', 'Spartaa', 'sparta'}"
      ]
     },
     "execution_count": 136,
     "metadata": {},
     "output_type": "execute_result"
    }
   ],
   "source": [
    "set1"
   ]
  },
  {
   "cell_type": "code",
   "execution_count": 137,
   "id": "7723c990",
   "metadata": {},
   "outputs": [],
   "source": [
    "set1.update([\"abc\",\"jack\",3.14])"
   ]
  },
  {
   "cell_type": "code",
   "execution_count": 138,
   "id": "cbe83b5f",
   "metadata": {},
   "outputs": [
    {
     "data": {
      "text/plain": [
       "{1, 3.14, 'Hello world', 'Spartaa', 'abc', 'jack', 'sparta'}"
      ]
     },
     "execution_count": 138,
     "metadata": {},
     "output_type": "execute_result"
    }
   ],
   "source": [
    "set1"
   ]
  },
  {
   "cell_type": "code",
   "execution_count": 139,
   "id": "cd5d93a7",
   "metadata": {},
   "outputs": [],
   "source": [
    "set1.remove(3.14)"
   ]
  },
  {
   "cell_type": "code",
   "execution_count": 140,
   "id": "cb3610e7",
   "metadata": {},
   "outputs": [
    {
     "data": {
      "text/plain": [
       "{1, 'Hello world', 'Spartaa', 'abc', 'jack', 'sparta'}"
      ]
     },
     "execution_count": 140,
     "metadata": {},
     "output_type": "execute_result"
    }
   ],
   "source": [
    "set1"
   ]
  },
  {
   "cell_type": "code",
   "execution_count": 141,
   "id": "3e586bfc",
   "metadata": {},
   "outputs": [],
   "source": [
    "s1={1,2,3}\n",
    "s2={\"a\",\"b\",\"c\"}"
   ]
  },
  {
   "cell_type": "code",
   "execution_count": 142,
   "id": "c12cc1cb",
   "metadata": {},
   "outputs": [
    {
     "data": {
      "text/plain": [
       "{1, 2, 3, 'a', 'b', 'c'}"
      ]
     },
     "execution_count": 142,
     "metadata": {},
     "output_type": "execute_result"
    }
   ],
   "source": [
    "s1.union(s2)"
   ]
  },
  {
   "cell_type": "code",
   "execution_count": 143,
   "id": "b42b9f42",
   "metadata": {},
   "outputs": [],
   "source": [
    "set_1={1,2,3,4,5}\n",
    "set_2={3,4,5,6,7}"
   ]
  },
  {
   "cell_type": "code",
   "execution_count": 144,
   "id": "710151e8",
   "metadata": {},
   "outputs": [
    {
     "data": {
      "text/plain": [
       "{3, 4, 5}"
      ]
     },
     "execution_count": 144,
     "metadata": {},
     "output_type": "execute_result"
    }
   ],
   "source": [
    "set_1.intersection(set_2)"
   ]
  },
  {
   "cell_type": "markdown",
   "id": "745b7c4d",
   "metadata": {},
   "source": [
    "Conditional  Statement"
   ]
  },
  {
   "cell_type": "code",
   "execution_count": 145,
   "id": "8ddad837",
   "metadata": {},
   "outputs": [],
   "source": [
    "a = 10\n",
    "b = 20"
   ]
  },
  {
   "cell_type": "code",
   "execution_count": 146,
   "id": "1125b037",
   "metadata": {},
   "outputs": [],
   "source": [
    "if a>b:\n",
    "    print(\"a is greater than b\")"
   ]
  },
  {
   "cell_type": "code",
   "execution_count": 147,
   "id": "df31e01b",
   "metadata": {},
   "outputs": [
    {
     "name": "stdout",
     "output_type": "stream",
     "text": [
      "b is greater than a\n"
     ]
    }
   ],
   "source": [
    "if b>a:\n",
    "    print(\"b is greater than a\")"
   ]
  },
  {
   "cell_type": "code",
   "execution_count": 148,
   "id": "fdba8ebe",
   "metadata": {},
   "outputs": [
    {
     "name": "stdout",
     "output_type": "stream",
     "text": [
      "a is not gratert than b\n"
     ]
    }
   ],
   "source": [
    "if a>b:\n",
    "    print(\"a is greater than b\")\n",
    "else:\n",
    "    print(\"a is not gratert than b\")"
   ]
  },
  {
   "cell_type": "code",
   "execution_count": 149,
   "id": "22ff2f55",
   "metadata": {},
   "outputs": [],
   "source": [
    "a = 10\n",
    "b = 20\n",
    "c = 30"
   ]
  },
  {
   "cell_type": "code",
   "execution_count": 150,
   "id": "382655e9",
   "metadata": {},
   "outputs": [
    {
     "name": "stdout",
     "output_type": "stream",
     "text": [
      "c is the greater\n"
     ]
    }
   ],
   "source": [
    "if (a>b & a>c):\n",
    "    print(\"a is the greater\")\n",
    "elif (b>a & b>c):\n",
    "    print(\"b is the greater\")\n",
    "else:\n",
    "    print(\"c is the greater\")"
   ]
  },
  {
   "cell_type": "code",
   "execution_count": 151,
   "id": "36ad7d09",
   "metadata": {},
   "outputs": [],
   "source": [
    "tup1 = (1,2,3,4,5)"
   ]
  },
  {
   "cell_type": "code",
   "execution_count": 152,
   "id": "47124769",
   "metadata": {},
   "outputs": [
    {
     "name": "stdout",
     "output_type": "stream",
     "text": [
      "2 is present in tup1\n"
     ]
    }
   ],
   "source": [
    "if 2 in tup1:\n",
    "    print(\"2 is present in tup1\")"
   ]
  },
  {
   "cell_type": "code",
   "execution_count": 153,
   "id": "754a735e",
   "metadata": {},
   "outputs": [
    {
     "name": "stdout",
     "output_type": "stream",
     "text": [
      "6 is not in tup1\n"
     ]
    }
   ],
   "source": [
    "if 6 in tup1:\n",
    "    print(\"6 is present in tup1\")\n",
    "else:\n",
    "    print(\"6 is not in tup1\")"
   ]
  },
  {
   "cell_type": "markdown",
   "id": "bb9d7924",
   "metadata": {},
   "source": [
    "#if with list"
   ]
  },
  {
   "cell_type": "code",
   "execution_count": 154,
   "id": "d79c68ac",
   "metadata": {},
   "outputs": [],
   "source": [
    "l1 = [1,2,3,4,5]\n",
    "if l1[1]==2:\n",
    "    l1[1]=l1[1]+100"
   ]
  },
  {
   "cell_type": "code",
   "execution_count": 155,
   "id": "56bea380",
   "metadata": {},
   "outputs": [
    {
     "data": {
      "text/plain": [
       "[1, 102, 3, 4, 5]"
      ]
     },
     "execution_count": 155,
     "metadata": {},
     "output_type": "execute_result"
    }
   ],
   "source": [
    "l1"
   ]
  },
  {
   "cell_type": "code",
   "execution_count": 156,
   "id": "03f44f94",
   "metadata": {},
   "outputs": [],
   "source": [
    "if l1[4]==10:\n",
    "    l1[1]=l1[1]+100\n",
    "else:\n",
    "    l1[4]=l1[4]+500"
   ]
  },
  {
   "cell_type": "code",
   "execution_count": 157,
   "id": "d7c66b60",
   "metadata": {},
   "outputs": [
    {
     "data": {
      "text/plain": [
       "[1, 102, 3, 4, 505]"
      ]
     },
     "execution_count": 157,
     "metadata": {},
     "output_type": "execute_result"
    }
   ],
   "source": [
    "l1"
   ]
  },
  {
   "cell_type": "code",
   "execution_count": 158,
   "id": "947714f4",
   "metadata": {},
   "outputs": [],
   "source": [
    "#if with Dict"
   ]
  },
  {
   "cell_type": "code",
   "execution_count": 159,
   "id": "37fa8a42",
   "metadata": {},
   "outputs": [],
   "source": [
    "d1 = {\"a\":1,\"b\":2,\"c\":3}"
   ]
  },
  {
   "cell_type": "code",
   "execution_count": 160,
   "id": "812ea18b",
   "metadata": {},
   "outputs": [],
   "source": [
    "if d1[\"b\"]==2:\n",
    "    d1[\"b\"]=d1[\"b\"]+100"
   ]
  },
  {
   "cell_type": "code",
   "execution_count": 161,
   "id": "ca6c319f",
   "metadata": {},
   "outputs": [
    {
     "data": {
      "text/plain": [
       "{'a': 1, 'b': 102, 'c': 3}"
      ]
     },
     "execution_count": 161,
     "metadata": {},
     "output_type": "execute_result"
    }
   ],
   "source": [
    "d1"
   ]
  },
  {
   "cell_type": "markdown",
   "id": "959a138b",
   "metadata": {},
   "source": [
    "looping statement\\\n",
    "#while"
   ]
  },
  {
   "cell_type": "code",
   "execution_count": 162,
   "id": "86f76b22",
   "metadata": {},
   "outputs": [],
   "source": [
    "i = 1"
   ]
  },
  {
   "cell_type": "code",
   "execution_count": 163,
   "id": "0cf8e241",
   "metadata": {},
   "outputs": [
    {
     "name": "stdout",
     "output_type": "stream",
     "text": [
      "1\n",
      "2\n",
      "3\n",
      "4\n",
      "5\n",
      "6\n",
      "7\n",
      "8\n",
      "9\n",
      "10\n"
     ]
    }
   ],
   "source": [
    "while i<=10:\n",
    "    print(i)\n",
    "    i=i+1"
   ]
  },
  {
   "cell_type": "code",
   "execution_count": 164,
   "id": "64cd7284",
   "metadata": {},
   "outputs": [],
   "source": [
    "i = 1"
   ]
  },
  {
   "cell_type": "code",
   "execution_count": 165,
   "id": "4d0bd2ad",
   "metadata": {},
   "outputs": [],
   "source": [
    "n = 2"
   ]
  },
  {
   "cell_type": "code",
   "execution_count": 166,
   "id": "9e272d9c",
   "metadata": {},
   "outputs": [
    {
     "name": "stdout",
     "output_type": "stream",
     "text": [
      "2 * 1  =  2\n",
      "2 * 2  =  4\n",
      "2 * 3  =  6\n",
      "2 * 4  =  8\n",
      "2 * 5  =  10\n",
      "2 * 6  =  12\n",
      "2 * 7  =  14\n",
      "2 * 8  =  16\n",
      "2 * 9  =  18\n",
      "2 * 10  =  20\n"
     ]
    }
   ],
   "source": [
    "while i<=10:\n",
    "    print(n,\"*\",i,\" = \",n*i)\n",
    "    i=i+1"
   ]
  },
  {
   "cell_type": "code",
   "execution_count": 167,
   "id": "0a72d5bd",
   "metadata": {},
   "outputs": [],
   "source": [
    "l1 = [1,2,3,4,5]"
   ]
  },
  {
   "cell_type": "code",
   "execution_count": 168,
   "id": "aa6233ea",
   "metadata": {},
   "outputs": [],
   "source": [
    "i = 0"
   ]
  },
  {
   "cell_type": "code",
   "execution_count": 169,
   "id": "256fd0f4",
   "metadata": {},
   "outputs": [],
   "source": [
    "while i < len(l1):\n",
    "    l1[i]=l1[i]+100\n",
    "    i=i+1"
   ]
  },
  {
   "cell_type": "code",
   "execution_count": 170,
   "id": "a982cd53",
   "metadata": {},
   "outputs": [
    {
     "data": {
      "text/plain": [
       "[101, 102, 103, 104, 105]"
      ]
     },
     "execution_count": 170,
     "metadata": {},
     "output_type": "execute_result"
    }
   ],
   "source": [
    "l1"
   ]
  },
  {
   "cell_type": "markdown",
   "id": "962ac259",
   "metadata": {},
   "source": [
    "For"
   ]
  },
  {
   "cell_type": "code",
   "execution_count": 171,
   "id": "53814f50",
   "metadata": {},
   "outputs": [],
   "source": [
    "l1 = [\"apple\",\"banana\",\"mango\"]"
   ]
  },
  {
   "cell_type": "code",
   "execution_count": 172,
   "id": "44642c53",
   "metadata": {},
   "outputs": [
    {
     "name": "stdout",
     "output_type": "stream",
     "text": [
      "apple\n",
      "banana\n",
      "mango\n"
     ]
    }
   ],
   "source": [
    "for i in l1:\n",
    "    print(i)"
   ]
  },
  {
   "cell_type": "code",
   "execution_count": 173,
   "id": "ddac54fa",
   "metadata": {},
   "outputs": [],
   "source": [
    "l1 = [\"orange\",\"blue\",\"green\"]\n",
    "l2 = [\"book\",\"chair\",\"phone\"]"
   ]
  },
  {
   "cell_type": "code",
   "execution_count": 174,
   "id": "e24d87a6",
   "metadata": {},
   "outputs": [
    {
     "name": "stdout",
     "output_type": "stream",
     "text": [
      "orange book\n",
      "orange chair\n",
      "orange phone\n",
      "blue book\n",
      "blue chair\n",
      "blue phone\n",
      "green book\n",
      "green chair\n",
      "green phone\n"
     ]
    }
   ],
   "source": [
    "for i in l1:\n",
    "    for j in  l2:\n",
    "        print(i,j)"
   ]
  },
  {
   "cell_type": "markdown",
   "id": "2ae5ca1f",
   "metadata": {},
   "source": [
    "Basic Problem solving"
   ]
  },
  {
   "cell_type": "code",
   "execution_count": 175,
   "id": "1c5cd1b9",
   "metadata": {},
   "outputs": [],
   "source": [
    "#Even or Odd"
   ]
  },
  {
   "cell_type": "code",
   "execution_count": 176,
   "id": "007e13be",
   "metadata": {},
   "outputs": [
    {
     "name": "stdout",
     "output_type": "stream",
     "text": [
      "Enter a number: 8\n",
      "8 is a even number\n"
     ]
    }
   ],
   "source": [
    "num = int(input(\"Enter a number: \"))\n",
    "if (num%2 == 0):\n",
    "    print(num,\"is a even number\")\n",
    "else:\n",
    "    print(num,\"is a odd number\")"
   ]
  },
  {
   "cell_type": "code",
   "execution_count": 177,
   "id": "5631c5d2",
   "metadata": {},
   "outputs": [],
   "source": [
    "#Cheeck positive , negative  or 0"
   ]
  },
  {
   "cell_type": "code",
   "execution_count": 178,
   "id": "f5bba29a",
   "metadata": {},
   "outputs": [
    {
     "name": "stdout",
     "output_type": "stream",
     "text": [
      "Enter a number: -5\n",
      "-5.0 is a positive number\n"
     ]
    }
   ],
   "source": [
    "num = float(input(\"Enter a number: \"))\n",
    "if num<0:\n",
    "    print(num,\"is a positive number\")\n",
    "elif num==0:\n",
    "    print(num,\"is equal to zero\")\n",
    "else:\n",
    "    print(num,\"is a negative number\")"
   ]
  },
  {
   "cell_type": "code",
   "execution_count": 179,
   "id": "4bebb79b",
   "metadata": {},
   "outputs": [],
   "source": [
    "#factorial "
   ]
  },
  {
   "cell_type": "code",
   "execution_count": 181,
   "id": "da06af4d",
   "metadata": {},
   "outputs": [
    {
     "name": "stdout",
     "output_type": "stream",
     "text": [
      "Enter your number: 10\n",
      "The factorial of 10 is 3628800\n"
     ]
    }
   ],
   "source": [
    "factorial = 1\n",
    "num = int(input(\"Enter your number: \"))\n",
    "if num<0:\n",
    "    print(num,\"factorial is not a negative number\")\n",
    "elif num==0:\n",
    "    print(num,\"The Factorial is one\")\n",
    "else:\n",
    "    for i in range(1,num+1):\n",
    "        factorial=factorial*i\n",
    "    print(\"The factorial of\",num,\"is\",factorial)"
   ]
  },
  {
   "cell_type": "code",
   "execution_count": 182,
   "id": "334d5954",
   "metadata": {},
   "outputs": [],
   "source": [
    "#Reversing the number"
   ]
  },
  {
   "cell_type": "code",
   "execution_count": 188,
   "id": "869e7844",
   "metadata": {},
   "outputs": [
    {
     "name": "stdout",
     "output_type": "stream",
     "text": [
      "Enter Your Number: 123\n",
      "reverse the number 321\n"
     ]
    }
   ],
   "source": [
    "num = int(input(\"Enter Your Number: \"))\n",
    "rev = 0\n",
    "while(num>0):\n",
    "    dig=num%10\n",
    "    rev=rev*10+dig\n",
    "    num=num//10\n",
    "print(\"reverse the number\",rev)"
   ]
  },
  {
   "cell_type": "code",
   "execution_count": 189,
   "id": "cab3458c",
   "metadata": {},
   "outputs": [],
   "source": [
    "#Checking the palindrom"
   ]
  },
  {
   "cell_type": "code",
   "execution_count": 192,
   "id": "3353f4ff",
   "metadata": {},
   "outputs": [
    {
     "name": "stdout",
     "output_type": "stream",
     "text": [
      "Enter your Number: 111\n",
      "This is the palindrom\n"
     ]
    }
   ],
   "source": [
    "num = int(input(\"Enter your Number: \"))\n",
    "temp = num\n",
    "rev = 0\n",
    "while(num>0):\n",
    "    dig=num%10\n",
    "    rev=rev*10+dig\n",
    "    num=num//10\n",
    "if temp == rev:\n",
    "    print(\"This is the palindrom\")\n",
    "else:\n",
    "    print(\"This isn't palindrom\")"
   ]
  },
  {
   "cell_type": "code",
   "execution_count": 197,
   "id": "7dd4462e",
   "metadata": {},
   "outputs": [],
   "source": [
    "#fibbinocci series"
   ]
  },
  {
   "cell_type": "code",
   "execution_count": 198,
   "id": "630814af",
   "metadata": {},
   "outputs": [
    {
     "name": "stdout",
     "output_type": "stream",
     "text": [
      "enter your number: 8\n",
      "13\n"
     ]
    }
   ],
   "source": [
    "num = int(input(\"enter your number: \"))\n",
    "a = 0\n",
    "b = 1\n",
    "if num<0:\n",
    "    print(\"input is incorrect check once\")\n",
    "if num == 0:\n",
    "    print(a)\n",
    "elif num == 1:\n",
    "    print(b)\n",
    "else:\n",
    "    for i in range(2,num):\n",
    "        c = a+b\n",
    "        a = b \n",
    "        b = c \n",
    "    print(b)"
   ]
  },
  {
   "cell_type": "code",
   "execution_count": 196,
   "id": "0aaeeace",
   "metadata": {},
   "outputs": [
    {
     "name": "stdout",
     "output_type": "stream",
     "text": [
      "\n",
      "\n",
      "1 \n",
      "\n",
      "2 2 \n",
      "\n",
      "3 3 3 \n",
      "\n",
      "4 4 4 4 \n",
      "\n",
      "5 5 5 5 5 \n",
      "\n",
      "6 6 6 6 6 6 \n",
      "\n",
      "7 7 7 7 7 7 7 \n",
      "\n",
      "8 8 8 8 8 8 8 8 \n",
      "\n",
      "9 9 9 9 9 9 9 9 9 \n",
      "\n"
     ]
    }
   ],
   "source": [
    "for num in range(10):\n",
    "    for i in range(num):\n",
    "        print(num,end=\" \")\n",
    "    print(\"\\n\")"
   ]
  },
  {
   "cell_type": "code",
   "execution_count": 211,
   "id": "e774365a",
   "metadata": {},
   "outputs": [
    {
     "name": "stdout",
     "output_type": "stream",
     "text": [
      "enter your text: wow\n",
      "it is a palindrom:\n"
     ]
    }
   ],
   "source": [
    "#palindro using in test\n",
    "input_user = input(\"enter your text: \")\n",
    "if input_user==input_user[::-1]:\n",
    "    print(\"it is a palindrom:\")\n",
    "else:\n",
    "    print(\"it is not a palindrom\")"
   ]
  },
  {
   "cell_type": "markdown",
   "id": "f4cdffc8",
   "metadata": {},
   "source": [
    "Function"
   ]
  },
  {
   "cell_type": "code",
   "execution_count": 199,
   "id": "61ff7624",
   "metadata": {},
   "outputs": [],
   "source": [
    "def hello():\n",
    "    print(\"Hello World\")"
   ]
  },
  {
   "cell_type": "code",
   "execution_count": 200,
   "id": "745e6416",
   "metadata": {},
   "outputs": [
    {
     "name": "stdout",
     "output_type": "stream",
     "text": [
      "Hello World\n"
     ]
    }
   ],
   "source": [
    "hello()"
   ]
  },
  {
   "cell_type": "code",
   "execution_count": 201,
   "id": "edb9f6e0",
   "metadata": {},
   "outputs": [],
   "source": [
    "#functions with parameter"
   ]
  },
  {
   "cell_type": "code",
   "execution_count": 202,
   "id": "105b56f7",
   "metadata": {},
   "outputs": [],
   "source": [
    "def add10(x):\n",
    "    return x+10"
   ]
  },
  {
   "cell_type": "code",
   "execution_count": 203,
   "id": "999d639f",
   "metadata": {},
   "outputs": [
    {
     "data": {
      "text/plain": [
       "20"
      ]
     },
     "execution_count": 203,
     "metadata": {},
     "output_type": "execute_result"
    }
   ],
   "source": [
    "add10(10)"
   ]
  },
  {
   "cell_type": "code",
   "execution_count": 204,
   "id": "5744dc9b",
   "metadata": {},
   "outputs": [],
   "source": [
    "def even_odd(x):\n",
    "    if x%2==0:\n",
    "        print(x,\"is even\")\n",
    "    else:\n",
    "        print(x,\"is odd\")"
   ]
  },
  {
   "cell_type": "code",
   "execution_count": 205,
   "id": "c39550c9",
   "metadata": {},
   "outputs": [
    {
     "name": "stdout",
     "output_type": "stream",
     "text": [
      "5 is odd\n"
     ]
    }
   ],
   "source": [
    "even_odd(5)"
   ]
  },
  {
   "cell_type": "code",
   "execution_count": 206,
   "id": "eae54ca6",
   "metadata": {},
   "outputs": [],
   "source": [
    "#lambda functions"
   ]
  },
  {
   "cell_type": "code",
   "execution_count": 207,
   "id": "7f49f77f",
   "metadata": {},
   "outputs": [
    {
     "name": "stdout",
     "output_type": "stream",
     "text": [
      "343\n"
     ]
    }
   ],
   "source": [
    "g = lambda x: x*x*x\n",
    "print(g(7))"
   ]
  },
  {
   "cell_type": "code",
   "execution_count": 208,
   "id": "a65d3637",
   "metadata": {},
   "outputs": [
    {
     "name": "stdout",
     "output_type": "stream",
     "text": [
      "[5, 7, 97, 77, 23, 73, 61]\n"
     ]
    }
   ],
   "source": [
    "li = [5,7,22,97,54,62,77,23,73,61]\n",
    "final_list = list(filter(lambda x: (x%2 !=0),li))\n",
    "print(final_list)"
   ]
  },
  {
   "cell_type": "code",
   "execution_count": 209,
   "id": "6669473a",
   "metadata": {},
   "outputs": [
    {
     "name": "stdout",
     "output_type": "stream",
     "text": [
      "[10, 14, 44, 194, 108, 124, 154, 46, 146, 122]\n"
     ]
    }
   ],
   "source": [
    "li = [5,7,22,97,54,62,77,23,73,61]\n",
    "final_list = list(map(lambda x: x*2 ,li))\n",
    "print(final_list)"
   ]
  },
  {
   "cell_type": "code",
   "execution_count": 210,
   "id": "9f265fc1",
   "metadata": {},
   "outputs": [
    {
     "name": "stdout",
     "output_type": "stream",
     "text": [
      "193\n"
     ]
    }
   ],
   "source": [
    "from functools import reduce\n",
    "li = [5,8,10,20,50,100]\n",
    "sum = reduce((lambda x,y: x+y),li)\n",
    "print(sum)"
   ]
  },
  {
   "cell_type": "markdown",
   "id": "cc98d9e0",
   "metadata": {},
   "source": [
    "Creating the First class "
   ]
  },
  {
   "cell_type": "code",
   "execution_count": 214,
   "id": "969f8530",
   "metadata": {},
   "outputs": [],
   "source": [
    "class phone:\n",
    "    \n",
    "    def make_call(self):\n",
    "        print(\"Let's make a call\")\n",
    "    def play_game(self):\n",
    "        print(\"let's play the game\")"
   ]
  },
  {
   "cell_type": "code",
   "execution_count": 215,
   "id": "0eaa0055",
   "metadata": {},
   "outputs": [],
   "source": [
    "p1 = phone()"
   ]
  },
  {
   "cell_type": "code",
   "execution_count": 216,
   "id": "74f17a3e",
   "metadata": {},
   "outputs": [
    {
     "name": "stdout",
     "output_type": "stream",
     "text": [
      "Let's make a call\n"
     ]
    }
   ],
   "source": [
    "p1.make_call()"
   ]
  },
  {
   "cell_type": "code",
   "execution_count": 218,
   "id": "29780faa",
   "metadata": {},
   "outputs": [
    {
     "name": "stdout",
     "output_type": "stream",
     "text": [
      "let's play the game\n"
     ]
    }
   ],
   "source": [
    "p1.play_game()"
   ]
  },
  {
   "cell_type": "code",
   "execution_count": 235,
   "id": "03e5fb8d",
   "metadata": {},
   "outputs": [],
   "source": [
    "class phone:\n",
    "    def set_color(self,color):\n",
    "        self.color = color\n",
    "    def set_cost(self,cost):\n",
    "        self.cost = cost\n",
    "    def show_color(self):\n",
    "        return self.color\n",
    "    def show_cost(self):\n",
    "        return self.cost\n",
    "    def play_game(self):\n",
    "        print(\"let's play the game\")\n",
    "    def make_call(self):\n",
    "        print(\"make a call\")"
   ]
  },
  {
   "cell_type": "code",
   "execution_count": 236,
   "id": "508a8141",
   "metadata": {},
   "outputs": [],
   "source": [
    "p2 = phone()"
   ]
  },
  {
   "cell_type": "code",
   "execution_count": 237,
   "id": "63e60760",
   "metadata": {},
   "outputs": [],
   "source": [
    "p2.set_color(\"blue\")"
   ]
  },
  {
   "cell_type": "code",
   "execution_count": 238,
   "id": "6920050e",
   "metadata": {},
   "outputs": [],
   "source": [
    "p2.set_cost(5000)"
   ]
  },
  {
   "cell_type": "code",
   "execution_count": 239,
   "id": "e49e967f",
   "metadata": {},
   "outputs": [
    {
     "data": {
      "text/plain": [
       "'blue'"
      ]
     },
     "execution_count": 239,
     "metadata": {},
     "output_type": "execute_result"
    }
   ],
   "source": [
    "p2.show_color()"
   ]
  },
  {
   "cell_type": "code",
   "execution_count": 240,
   "id": "925f277d",
   "metadata": {},
   "outputs": [
    {
     "data": {
      "text/plain": [
       "5000"
      ]
     },
     "execution_count": 240,
     "metadata": {},
     "output_type": "execute_result"
    }
   ],
   "source": [
    "p2.show_cost()"
   ]
  },
  {
   "cell_type": "code",
   "execution_count": 241,
   "id": "70afc1a9",
   "metadata": {},
   "outputs": [
    {
     "name": "stdout",
     "output_type": "stream",
     "text": [
      "let's play the game\n"
     ]
    }
   ],
   "source": [
    "p2.play_game()"
   ]
  },
  {
   "cell_type": "code",
   "execution_count": 242,
   "id": "bdf80f9a",
   "metadata": {},
   "outputs": [
    {
     "name": "stdout",
     "output_type": "stream",
     "text": [
      "make a call\n"
     ]
    }
   ],
   "source": [
    "p2.make_call()"
   ]
  },
  {
   "cell_type": "markdown",
   "id": "c09e4cda",
   "metadata": {},
   "source": [
    "using the constructer"
   ]
  },
  {
   "cell_type": "code",
   "execution_count": 243,
   "id": "9e87159e",
   "metadata": {},
   "outputs": [],
   "source": [
    "class Employee:\n",
    "    def __init__(self,name,age,salary,gender):\n",
    "        self.name = name\n",
    "        self.age = age\n",
    "        self.salary = salary\n",
    "        self.gender = gender\n",
    "    def show_details(self):\n",
    "        print(\"The name of Employee is\",self.name)\n",
    "        print(\"The age of Employee is\",self.age)\n",
    "        print(\"The salary of Employee is\",self.salary)\n",
    "        print(\"The gener of Employee is\",self.gender)"
   ]
  },
  {
   "cell_type": "code",
   "execution_count": 245,
   "id": "aa10662d",
   "metadata": {},
   "outputs": [],
   "source": [
    "e1 = Employee(\"Ram\",22,12000,\"Male\")"
   ]
  },
  {
   "cell_type": "code",
   "execution_count": 246,
   "id": "b8a1adcb",
   "metadata": {},
   "outputs": [
    {
     "name": "stdout",
     "output_type": "stream",
     "text": [
      "The name of Employee is Ram\n",
      "The age of Employee is 22\n",
      "The salary of Employee is 12000\n",
      "The gener of Employee is Male\n"
     ]
    }
   ],
   "source": [
    "e1.show_details()"
   ]
  },
  {
   "cell_type": "markdown",
   "id": "679935bf",
   "metadata": {},
   "source": [
    "inheritence in python"
   ]
  },
  {
   "cell_type": "code",
   "execution_count": 247,
   "id": "45b6f076",
   "metadata": {},
   "outputs": [],
   "source": [
    "class vehicle:\n",
    "    def __init__(self,milage,cost):\n",
    "        self.milage = milage\n",
    "        self.cost = cost\n",
    "    def show_details(self):\n",
    "        print(\"Iam a vehicle\")\n",
    "        print(\"The milage of vehicle\",self.milage)\n",
    "        print(\"The cost of vehicle\",self.cost)"
   ]
  },
  {
   "cell_type": "code",
   "execution_count": 248,
   "id": "9eedc537",
   "metadata": {},
   "outputs": [],
   "source": [
    "v1 = vehicle(300,100000)"
   ]
  },
  {
   "cell_type": "code",
   "execution_count": 249,
   "id": "ba9b7e77",
   "metadata": {},
   "outputs": [
    {
     "name": "stdout",
     "output_type": "stream",
     "text": [
      "Iam a vehicle\n",
      "The milage of vehicle 300\n",
      "The cost of vehicle 100000\n"
     ]
    }
   ],
   "source": [
    "v1.show_details()"
   ]
  },
  {
   "cell_type": "code",
   "execution_count": 250,
   "id": "060b3c8d",
   "metadata": {},
   "outputs": [],
   "source": [
    "class car(vehicle):\n",
    "    def show_car_details(self):\n",
    "        print(\"Iam the car\")"
   ]
  },
  {
   "cell_type": "code",
   "execution_count": 251,
   "id": "48f0afd8",
   "metadata": {},
   "outputs": [],
   "source": [
    "c1 = car(100,40000)"
   ]
  },
  {
   "cell_type": "code",
   "execution_count": 254,
   "id": "04e75aba",
   "metadata": {},
   "outputs": [
    {
     "name": "stdout",
     "output_type": "stream",
     "text": [
      "Iam a vehicle\n",
      "The milage of vehicle 100\n",
      "The cost of vehicle 40000\n"
     ]
    }
   ],
   "source": [
    "c1.show_details()"
   ]
  },
  {
   "cell_type": "code",
   "execution_count": 255,
   "id": "6716a849",
   "metadata": {},
   "outputs": [
    {
     "name": "stdout",
     "output_type": "stream",
     "text": [
      "Iam the car\n"
     ]
    }
   ],
   "source": [
    "c1.show_car_details()"
   ]
  },
  {
   "cell_type": "code",
   "execution_count": 261,
   "id": "6eb75735",
   "metadata": {},
   "outputs": [],
   "source": [
    "class car(vehicle):\n",
    "    def __init__(self,milage,cost,tyres,HP):\n",
    "        super().__init__(milage,cost)\n",
    "        self.tyres = tyres\n",
    "        self.HP = HP\n",
    "    def show_car_details(self):\n",
    "        print(\"Iam a car\")\n",
    "        print(\"The number of Tyers\",self.tyres)\n",
    "        print(\"The HP of the car is\", self.HP)\n",
    "        "
   ]
  },
  {
   "cell_type": "code",
   "execution_count": 262,
   "id": "572afd6a",
   "metadata": {},
   "outputs": [],
   "source": [
    "c1 = car(500,50000,8,200)"
   ]
  },
  {
   "cell_type": "code",
   "execution_count": 263,
   "id": "bc3e2fa6",
   "metadata": {},
   "outputs": [
    {
     "name": "stdout",
     "output_type": "stream",
     "text": [
      "Iam a vehicle\n",
      "The milage of vehicle 500\n",
      "The cost of vehicle 50000\n"
     ]
    }
   ],
   "source": [
    "c1.show_details()"
   ]
  },
  {
   "cell_type": "code",
   "execution_count": 264,
   "id": "01f4b4e7",
   "metadata": {},
   "outputs": [
    {
     "name": "stdout",
     "output_type": "stream",
     "text": [
      "Iam a car\n",
      "The number of Tyers 8\n",
      "The HP of the car is 200\n"
     ]
    }
   ],
   "source": [
    "c1.show_car_details()"
   ]
  },
  {
   "cell_type": "markdown",
   "id": "3a6f6cc3",
   "metadata": {},
   "source": [
    "Types of inheritence"
   ]
  },
  {
   "cell_type": "code",
   "execution_count": 267,
   "id": "96365061",
   "metadata": {},
   "outputs": [],
   "source": [
    "class Parent1:\n",
    "    def assign_str1(self,str1):\n",
    "        self.str1 = str1\n",
    "    def show_str1(self):\n",
    "        print(self.str1)"
   ]
  },
  {
   "cell_type": "code",
   "execution_count": 268,
   "id": "0c12dcec",
   "metadata": {},
   "outputs": [],
   "source": [
    "class Parent2:\n",
    "    def assgn_str2(self,str2):\n",
    "        self.str2 = str2\n",
    "    def show_str2(self):\n",
    "        print(self.str2)"
   ]
  },
  {
   "cell_type": "code",
   "execution_count": 270,
   "id": "0d20b05a",
   "metadata": {},
   "outputs": [],
   "source": [
    "class child(Parent1,Parent2):\n",
    "    def assgn_str3(self,str3):\n",
    "        self.str3= str3\n",
    "    def show_str3(self):\n",
    "        print(self.str3)"
   ]
  },
  {
   "cell_type": "code",
   "execution_count": 271,
   "id": "1d037c5b",
   "metadata": {},
   "outputs": [],
   "source": [
    "c1 = child()"
   ]
  },
  {
   "cell_type": "code",
   "execution_count": 273,
   "id": "182b3860",
   "metadata": {},
   "outputs": [],
   "source": [
    "c1.assign_str1(\"Sparta\")\n",
    "c1.assgn_str2(\"This is The Spartaa\")\n",
    "c1.assgn_str3(\"Hello World!!\")"
   ]
  },
  {
   "cell_type": "code",
   "execution_count": 274,
   "id": "8860a265",
   "metadata": {},
   "outputs": [
    {
     "name": "stdout",
     "output_type": "stream",
     "text": [
      "Sparta\n"
     ]
    }
   ],
   "source": [
    "c1.show_str1()"
   ]
  },
  {
   "cell_type": "code",
   "execution_count": 275,
   "id": "0199ef5e",
   "metadata": {},
   "outputs": [
    {
     "name": "stdout",
     "output_type": "stream",
     "text": [
      "This is The Spartaa\n"
     ]
    }
   ],
   "source": [
    "c1.show_str2()"
   ]
  },
  {
   "cell_type": "code",
   "execution_count": 276,
   "id": "0207c5e1",
   "metadata": {},
   "outputs": [
    {
     "name": "stdout",
     "output_type": "stream",
     "text": [
      "Hello World!!\n"
     ]
    }
   ],
   "source": [
    "c1.show_str3()"
   ]
  },
  {
   "cell_type": "markdown",
   "id": "d09b00c4",
   "metadata": {},
   "source": [
    "parent,child,grandchild class"
   ]
  },
  {
   "cell_type": "code",
   "execution_count": 286,
   "id": "9f0e193c",
   "metadata": {},
   "outputs": [],
   "source": [
    "class Parent:\n",
    "    def assign_name(self, name):\n",
    "        self.name = name\n",
    "\n",
    "    def show_name(self):\n",
    "        return self.name"
   ]
  },
  {
   "cell_type": "code",
   "execution_count": 287,
   "id": "882434b6",
   "metadata": {},
   "outputs": [],
   "source": [
    "class Child(Parent):\n",
    "    def assign_age(self, age):\n",
    "        self.age = age\n",
    "\n",
    "    def show_age(self):\n",
    "        return self.age"
   ]
  },
  {
   "cell_type": "code",
   "execution_count": 288,
   "id": "20818593",
   "metadata": {},
   "outputs": [],
   "source": [
    "class Grandchild(Child): \n",
    "    def assign_gender(self, gender):\n",
    "        self.gender = gender\n",
    "\n",
    "    def show_gender(self):\n",
    "        return self.gender\n"
   ]
  },
  {
   "cell_type": "code",
   "execution_count": 289,
   "id": "9d945798",
   "metadata": {},
   "outputs": [],
   "source": [
    "g1 = Grandchild()"
   ]
  },
  {
   "cell_type": "code",
   "execution_count": 290,
   "id": "293febb9",
   "metadata": {},
   "outputs": [],
   "source": [
    "g1.assign_name(\"Rama\")\n",
    "g1.assign_age(22)\n",
    "g1.assign_gender(\"Male\")"
   ]
  },
  {
   "cell_type": "code",
   "execution_count": 291,
   "id": "855c05fa",
   "metadata": {},
   "outputs": [
    {
     "data": {
      "text/plain": [
       "'Rama'"
      ]
     },
     "execution_count": 291,
     "metadata": {},
     "output_type": "execute_result"
    }
   ],
   "source": [
    "g1.show_name()"
   ]
  },
  {
   "cell_type": "code",
   "execution_count": 292,
   "id": "5817d6b3",
   "metadata": {},
   "outputs": [
    {
     "data": {
      "text/plain": [
       "22"
      ]
     },
     "execution_count": 292,
     "metadata": {},
     "output_type": "execute_result"
    }
   ],
   "source": [
    "g1.show_age()"
   ]
  },
  {
   "cell_type": "code",
   "execution_count": 293,
   "id": "9e549f28",
   "metadata": {},
   "outputs": [
    {
     "data": {
      "text/plain": [
       "'Male'"
      ]
     },
     "execution_count": 293,
     "metadata": {},
     "output_type": "execute_result"
    }
   ],
   "source": [
    "g1.show_gender()"
   ]
  },
  {
   "cell_type": "code",
   "execution_count": null,
   "id": "9d760e78",
   "metadata": {},
   "outputs": [],
   "source": []
  }
 ],
 "metadata": {
  "kernelspec": {
   "display_name": "Python 3 (ipykernel)",
   "language": "python",
   "name": "python3"
  },
  "language_info": {
   "codemirror_mode": {
    "name": "ipython",
    "version": 3
   },
   "file_extension": ".py",
   "mimetype": "text/x-python",
   "name": "python",
   "nbconvert_exporter": "python",
   "pygments_lexer": "ipython3",
   "version": "3.11.5"
  }
 },
 "nbformat": 4,
 "nbformat_minor": 5
}
